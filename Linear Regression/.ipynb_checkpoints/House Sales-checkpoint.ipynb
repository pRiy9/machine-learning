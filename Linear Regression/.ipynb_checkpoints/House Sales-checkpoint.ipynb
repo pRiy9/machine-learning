{
 "cells": [
  {
   "cell_type": "markdown",
   "id": "8b788f53",
   "metadata": {},
   "source": [
    "# Predicting the house sale prices for King County"
   ]
  },
  {
   "cell_type": "markdown",
   "id": "8b19de84",
   "metadata": {},
   "source": [
    "## Importing the dataset"
   ]
  },
  {
   "cell_type": "code",
   "execution_count": 3,
   "id": "e60ae9ef",
   "metadata": {
    "_cell_guid": "b1076dfc-b9ad-4769-8c92-a6c4dae69d19",
    "_uuid": "8f2839f25d086af736a60e9eeb907d3b93b6e0e5",
    "execution": {
     "iopub.execute_input": "2021-04-05T13:13:49.666977Z",
     "iopub.status.busy": "2021-04-05T13:13:49.666182Z",
     "iopub.status.idle": "2021-04-05T13:13:50.953732Z",
     "shell.execute_reply": "2021-04-05T13:13:50.952893Z"
    },
    "papermill": {
     "duration": 1.318485,
     "end_time": "2021-04-05T13:13:50.953901",
     "exception": false,
     "start_time": "2021-04-05T13:13:49.635416",
     "status": "completed"
    },
    "tags": []
   },
   "outputs": [],
   "source": [
    "import pandas as pd"
   ]
  },
  {
   "cell_type": "code",
   "execution_count": 4,
   "id": "cf0ecee0",
   "metadata": {
    "execution": {
     "iopub.execute_input": "2021-04-05T13:13:51.053393Z",
     "iopub.status.busy": "2021-04-05T13:13:51.052758Z",
     "iopub.status.idle": "2021-04-05T13:13:51.149781Z",
     "shell.execute_reply": "2021-04-05T13:13:51.149194Z"
    },
    "papermill": {
     "duration": 0.12496,
     "end_time": "2021-04-05T13:13:51.149924",
     "exception": false,
     "start_time": "2021-04-05T13:13:51.024964",
     "status": "completed"
    },
    "tags": []
   },
   "outputs": [
    {
     "ename": "FileNotFoundError",
     "evalue": "[Errno 2] No such file or directory: 'data.csv'",
     "output_type": "error",
     "traceback": [
      "\u001b[0;31m---------------------------------------------------------------------------\u001b[0m",
      "\u001b[0;31mFileNotFoundError\u001b[0m                         Traceback (most recent call last)",
      "Input \u001b[0;32mIn [4]\u001b[0m, in \u001b[0;36m<cell line: 1>\u001b[0;34m()\u001b[0m\n\u001b[0;32m----> 1\u001b[0m df \u001b[38;5;241m=\u001b[39m \u001b[43mpd\u001b[49m\u001b[38;5;241;43m.\u001b[39;49m\u001b[43mread_csv\u001b[49m\u001b[43m(\u001b[49m\u001b[38;5;124;43m'\u001b[39;49m\u001b[38;5;124;43mdata.csv\u001b[39;49m\u001b[38;5;124;43m'\u001b[39;49m\u001b[43m)\u001b[49m\n",
      "File \u001b[0;32m~/anaconda3/envs/tensorflowplus/lib/python3.8/site-packages/pandas/util/_decorators.py:311\u001b[0m, in \u001b[0;36mdeprecate_nonkeyword_arguments.<locals>.decorate.<locals>.wrapper\u001b[0;34m(*args, **kwargs)\u001b[0m\n\u001b[1;32m    305\u001b[0m \u001b[38;5;28;01mif\u001b[39;00m \u001b[38;5;28mlen\u001b[39m(args) \u001b[38;5;241m>\u001b[39m num_allow_args:\n\u001b[1;32m    306\u001b[0m     warnings\u001b[38;5;241m.\u001b[39mwarn(\n\u001b[1;32m    307\u001b[0m         msg\u001b[38;5;241m.\u001b[39mformat(arguments\u001b[38;5;241m=\u001b[39marguments),\n\u001b[1;32m    308\u001b[0m         \u001b[38;5;167;01mFutureWarning\u001b[39;00m,\n\u001b[1;32m    309\u001b[0m         stacklevel\u001b[38;5;241m=\u001b[39mstacklevel,\n\u001b[1;32m    310\u001b[0m     )\n\u001b[0;32m--> 311\u001b[0m \u001b[38;5;28;01mreturn\u001b[39;00m \u001b[43mfunc\u001b[49m\u001b[43m(\u001b[49m\u001b[38;5;241;43m*\u001b[39;49m\u001b[43margs\u001b[49m\u001b[43m,\u001b[49m\u001b[43m \u001b[49m\u001b[38;5;241;43m*\u001b[39;49m\u001b[38;5;241;43m*\u001b[39;49m\u001b[43mkwargs\u001b[49m\u001b[43m)\u001b[49m\n",
      "File \u001b[0;32m~/anaconda3/envs/tensorflowplus/lib/python3.8/site-packages/pandas/io/parsers/readers.py:680\u001b[0m, in \u001b[0;36mread_csv\u001b[0;34m(filepath_or_buffer, sep, delimiter, header, names, index_col, usecols, squeeze, prefix, mangle_dupe_cols, dtype, engine, converters, true_values, false_values, skipinitialspace, skiprows, skipfooter, nrows, na_values, keep_default_na, na_filter, verbose, skip_blank_lines, parse_dates, infer_datetime_format, keep_date_col, date_parser, dayfirst, cache_dates, iterator, chunksize, compression, thousands, decimal, lineterminator, quotechar, quoting, doublequote, escapechar, comment, encoding, encoding_errors, dialect, error_bad_lines, warn_bad_lines, on_bad_lines, delim_whitespace, low_memory, memory_map, float_precision, storage_options)\u001b[0m\n\u001b[1;32m    665\u001b[0m kwds_defaults \u001b[38;5;241m=\u001b[39m _refine_defaults_read(\n\u001b[1;32m    666\u001b[0m     dialect,\n\u001b[1;32m    667\u001b[0m     delimiter,\n\u001b[0;32m   (...)\u001b[0m\n\u001b[1;32m    676\u001b[0m     defaults\u001b[38;5;241m=\u001b[39m{\u001b[38;5;124m\"\u001b[39m\u001b[38;5;124mdelimiter\u001b[39m\u001b[38;5;124m\"\u001b[39m: \u001b[38;5;124m\"\u001b[39m\u001b[38;5;124m,\u001b[39m\u001b[38;5;124m\"\u001b[39m},\n\u001b[1;32m    677\u001b[0m )\n\u001b[1;32m    678\u001b[0m kwds\u001b[38;5;241m.\u001b[39mupdate(kwds_defaults)\n\u001b[0;32m--> 680\u001b[0m \u001b[38;5;28;01mreturn\u001b[39;00m \u001b[43m_read\u001b[49m\u001b[43m(\u001b[49m\u001b[43mfilepath_or_buffer\u001b[49m\u001b[43m,\u001b[49m\u001b[43m \u001b[49m\u001b[43mkwds\u001b[49m\u001b[43m)\u001b[49m\n",
      "File \u001b[0;32m~/anaconda3/envs/tensorflowplus/lib/python3.8/site-packages/pandas/io/parsers/readers.py:575\u001b[0m, in \u001b[0;36m_read\u001b[0;34m(filepath_or_buffer, kwds)\u001b[0m\n\u001b[1;32m    572\u001b[0m _validate_names(kwds\u001b[38;5;241m.\u001b[39mget(\u001b[38;5;124m\"\u001b[39m\u001b[38;5;124mnames\u001b[39m\u001b[38;5;124m\"\u001b[39m, \u001b[38;5;28;01mNone\u001b[39;00m))\n\u001b[1;32m    574\u001b[0m \u001b[38;5;66;03m# Create the parser.\u001b[39;00m\n\u001b[0;32m--> 575\u001b[0m parser \u001b[38;5;241m=\u001b[39m \u001b[43mTextFileReader\u001b[49m\u001b[43m(\u001b[49m\u001b[43mfilepath_or_buffer\u001b[49m\u001b[43m,\u001b[49m\u001b[43m \u001b[49m\u001b[38;5;241;43m*\u001b[39;49m\u001b[38;5;241;43m*\u001b[39;49m\u001b[43mkwds\u001b[49m\u001b[43m)\u001b[49m\n\u001b[1;32m    577\u001b[0m \u001b[38;5;28;01mif\u001b[39;00m chunksize \u001b[38;5;129;01mor\u001b[39;00m iterator:\n\u001b[1;32m    578\u001b[0m     \u001b[38;5;28;01mreturn\u001b[39;00m parser\n",
      "File \u001b[0;32m~/anaconda3/envs/tensorflowplus/lib/python3.8/site-packages/pandas/io/parsers/readers.py:933\u001b[0m, in \u001b[0;36mTextFileReader.__init__\u001b[0;34m(self, f, engine, **kwds)\u001b[0m\n\u001b[1;32m    930\u001b[0m     \u001b[38;5;28mself\u001b[39m\u001b[38;5;241m.\u001b[39moptions[\u001b[38;5;124m\"\u001b[39m\u001b[38;5;124mhas_index_names\u001b[39m\u001b[38;5;124m\"\u001b[39m] \u001b[38;5;241m=\u001b[39m kwds[\u001b[38;5;124m\"\u001b[39m\u001b[38;5;124mhas_index_names\u001b[39m\u001b[38;5;124m\"\u001b[39m]\n\u001b[1;32m    932\u001b[0m \u001b[38;5;28mself\u001b[39m\u001b[38;5;241m.\u001b[39mhandles: IOHandles \u001b[38;5;241m|\u001b[39m \u001b[38;5;28;01mNone\u001b[39;00m \u001b[38;5;241m=\u001b[39m \u001b[38;5;28;01mNone\u001b[39;00m\n\u001b[0;32m--> 933\u001b[0m \u001b[38;5;28mself\u001b[39m\u001b[38;5;241m.\u001b[39m_engine \u001b[38;5;241m=\u001b[39m \u001b[38;5;28;43mself\u001b[39;49m\u001b[38;5;241;43m.\u001b[39;49m\u001b[43m_make_engine\u001b[49m\u001b[43m(\u001b[49m\u001b[43mf\u001b[49m\u001b[43m,\u001b[49m\u001b[43m \u001b[49m\u001b[38;5;28;43mself\u001b[39;49m\u001b[38;5;241;43m.\u001b[39;49m\u001b[43mengine\u001b[49m\u001b[43m)\u001b[49m\n",
      "File \u001b[0;32m~/anaconda3/envs/tensorflowplus/lib/python3.8/site-packages/pandas/io/parsers/readers.py:1217\u001b[0m, in \u001b[0;36mTextFileReader._make_engine\u001b[0;34m(self, f, engine)\u001b[0m\n\u001b[1;32m   1213\u001b[0m     mode \u001b[38;5;241m=\u001b[39m \u001b[38;5;124m\"\u001b[39m\u001b[38;5;124mrb\u001b[39m\u001b[38;5;124m\"\u001b[39m\n\u001b[1;32m   1214\u001b[0m \u001b[38;5;66;03m# error: No overload variant of \"get_handle\" matches argument types\u001b[39;00m\n\u001b[1;32m   1215\u001b[0m \u001b[38;5;66;03m# \"Union[str, PathLike[str], ReadCsvBuffer[bytes], ReadCsvBuffer[str]]\"\u001b[39;00m\n\u001b[1;32m   1216\u001b[0m \u001b[38;5;66;03m# , \"str\", \"bool\", \"Any\", \"Any\", \"Any\", \"Any\", \"Any\"\u001b[39;00m\n\u001b[0;32m-> 1217\u001b[0m \u001b[38;5;28mself\u001b[39m\u001b[38;5;241m.\u001b[39mhandles \u001b[38;5;241m=\u001b[39m \u001b[43mget_handle\u001b[49m\u001b[43m(\u001b[49m\u001b[43m  \u001b[49m\u001b[38;5;66;43;03m# type: ignore[call-overload]\u001b[39;49;00m\n\u001b[1;32m   1218\u001b[0m \u001b[43m    \u001b[49m\u001b[43mf\u001b[49m\u001b[43m,\u001b[49m\n\u001b[1;32m   1219\u001b[0m \u001b[43m    \u001b[49m\u001b[43mmode\u001b[49m\u001b[43m,\u001b[49m\n\u001b[1;32m   1220\u001b[0m \u001b[43m    \u001b[49m\u001b[43mencoding\u001b[49m\u001b[38;5;241;43m=\u001b[39;49m\u001b[38;5;28;43mself\u001b[39;49m\u001b[38;5;241;43m.\u001b[39;49m\u001b[43moptions\u001b[49m\u001b[38;5;241;43m.\u001b[39;49m\u001b[43mget\u001b[49m\u001b[43m(\u001b[49m\u001b[38;5;124;43m\"\u001b[39;49m\u001b[38;5;124;43mencoding\u001b[39;49m\u001b[38;5;124;43m\"\u001b[39;49m\u001b[43m,\u001b[49m\u001b[43m \u001b[49m\u001b[38;5;28;43;01mNone\u001b[39;49;00m\u001b[43m)\u001b[49m\u001b[43m,\u001b[49m\n\u001b[1;32m   1221\u001b[0m \u001b[43m    \u001b[49m\u001b[43mcompression\u001b[49m\u001b[38;5;241;43m=\u001b[39;49m\u001b[38;5;28;43mself\u001b[39;49m\u001b[38;5;241;43m.\u001b[39;49m\u001b[43moptions\u001b[49m\u001b[38;5;241;43m.\u001b[39;49m\u001b[43mget\u001b[49m\u001b[43m(\u001b[49m\u001b[38;5;124;43m\"\u001b[39;49m\u001b[38;5;124;43mcompression\u001b[39;49m\u001b[38;5;124;43m\"\u001b[39;49m\u001b[43m,\u001b[49m\u001b[43m \u001b[49m\u001b[38;5;28;43;01mNone\u001b[39;49;00m\u001b[43m)\u001b[49m\u001b[43m,\u001b[49m\n\u001b[1;32m   1222\u001b[0m \u001b[43m    \u001b[49m\u001b[43mmemory_map\u001b[49m\u001b[38;5;241;43m=\u001b[39;49m\u001b[38;5;28;43mself\u001b[39;49m\u001b[38;5;241;43m.\u001b[39;49m\u001b[43moptions\u001b[49m\u001b[38;5;241;43m.\u001b[39;49m\u001b[43mget\u001b[49m\u001b[43m(\u001b[49m\u001b[38;5;124;43m\"\u001b[39;49m\u001b[38;5;124;43mmemory_map\u001b[39;49m\u001b[38;5;124;43m\"\u001b[39;49m\u001b[43m,\u001b[49m\u001b[43m \u001b[49m\u001b[38;5;28;43;01mFalse\u001b[39;49;00m\u001b[43m)\u001b[49m\u001b[43m,\u001b[49m\n\u001b[1;32m   1223\u001b[0m \u001b[43m    \u001b[49m\u001b[43mis_text\u001b[49m\u001b[38;5;241;43m=\u001b[39;49m\u001b[43mis_text\u001b[49m\u001b[43m,\u001b[49m\n\u001b[1;32m   1224\u001b[0m \u001b[43m    \u001b[49m\u001b[43merrors\u001b[49m\u001b[38;5;241;43m=\u001b[39;49m\u001b[38;5;28;43mself\u001b[39;49m\u001b[38;5;241;43m.\u001b[39;49m\u001b[43moptions\u001b[49m\u001b[38;5;241;43m.\u001b[39;49m\u001b[43mget\u001b[49m\u001b[43m(\u001b[49m\u001b[38;5;124;43m\"\u001b[39;49m\u001b[38;5;124;43mencoding_errors\u001b[39;49m\u001b[38;5;124;43m\"\u001b[39;49m\u001b[43m,\u001b[49m\u001b[43m \u001b[49m\u001b[38;5;124;43m\"\u001b[39;49m\u001b[38;5;124;43mstrict\u001b[39;49m\u001b[38;5;124;43m\"\u001b[39;49m\u001b[43m)\u001b[49m\u001b[43m,\u001b[49m\n\u001b[1;32m   1225\u001b[0m \u001b[43m    \u001b[49m\u001b[43mstorage_options\u001b[49m\u001b[38;5;241;43m=\u001b[39;49m\u001b[38;5;28;43mself\u001b[39;49m\u001b[38;5;241;43m.\u001b[39;49m\u001b[43moptions\u001b[49m\u001b[38;5;241;43m.\u001b[39;49m\u001b[43mget\u001b[49m\u001b[43m(\u001b[49m\u001b[38;5;124;43m\"\u001b[39;49m\u001b[38;5;124;43mstorage_options\u001b[39;49m\u001b[38;5;124;43m\"\u001b[39;49m\u001b[43m,\u001b[49m\u001b[43m \u001b[49m\u001b[38;5;28;43;01mNone\u001b[39;49;00m\u001b[43m)\u001b[49m\u001b[43m,\u001b[49m\n\u001b[1;32m   1226\u001b[0m \u001b[43m\u001b[49m\u001b[43m)\u001b[49m\n\u001b[1;32m   1227\u001b[0m \u001b[38;5;28;01massert\u001b[39;00m \u001b[38;5;28mself\u001b[39m\u001b[38;5;241m.\u001b[39mhandles \u001b[38;5;129;01mis\u001b[39;00m \u001b[38;5;129;01mnot\u001b[39;00m \u001b[38;5;28;01mNone\u001b[39;00m\n\u001b[1;32m   1228\u001b[0m f \u001b[38;5;241m=\u001b[39m \u001b[38;5;28mself\u001b[39m\u001b[38;5;241m.\u001b[39mhandles\u001b[38;5;241m.\u001b[39mhandle\n",
      "File \u001b[0;32m~/anaconda3/envs/tensorflowplus/lib/python3.8/site-packages/pandas/io/common.py:789\u001b[0m, in \u001b[0;36mget_handle\u001b[0;34m(path_or_buf, mode, encoding, compression, memory_map, is_text, errors, storage_options)\u001b[0m\n\u001b[1;32m    784\u001b[0m \u001b[38;5;28;01melif\u001b[39;00m \u001b[38;5;28misinstance\u001b[39m(handle, \u001b[38;5;28mstr\u001b[39m):\n\u001b[1;32m    785\u001b[0m     \u001b[38;5;66;03m# Check whether the filename is to be opened in binary mode.\u001b[39;00m\n\u001b[1;32m    786\u001b[0m     \u001b[38;5;66;03m# Binary mode does not support 'encoding' and 'newline'.\u001b[39;00m\n\u001b[1;32m    787\u001b[0m     \u001b[38;5;28;01mif\u001b[39;00m ioargs\u001b[38;5;241m.\u001b[39mencoding \u001b[38;5;129;01mand\u001b[39;00m \u001b[38;5;124m\"\u001b[39m\u001b[38;5;124mb\u001b[39m\u001b[38;5;124m\"\u001b[39m \u001b[38;5;129;01mnot\u001b[39;00m \u001b[38;5;129;01min\u001b[39;00m ioargs\u001b[38;5;241m.\u001b[39mmode:\n\u001b[1;32m    788\u001b[0m         \u001b[38;5;66;03m# Encoding\u001b[39;00m\n\u001b[0;32m--> 789\u001b[0m         handle \u001b[38;5;241m=\u001b[39m \u001b[38;5;28;43mopen\u001b[39;49m\u001b[43m(\u001b[49m\n\u001b[1;32m    790\u001b[0m \u001b[43m            \u001b[49m\u001b[43mhandle\u001b[49m\u001b[43m,\u001b[49m\n\u001b[1;32m    791\u001b[0m \u001b[43m            \u001b[49m\u001b[43mioargs\u001b[49m\u001b[38;5;241;43m.\u001b[39;49m\u001b[43mmode\u001b[49m\u001b[43m,\u001b[49m\n\u001b[1;32m    792\u001b[0m \u001b[43m            \u001b[49m\u001b[43mencoding\u001b[49m\u001b[38;5;241;43m=\u001b[39;49m\u001b[43mioargs\u001b[49m\u001b[38;5;241;43m.\u001b[39;49m\u001b[43mencoding\u001b[49m\u001b[43m,\u001b[49m\n\u001b[1;32m    793\u001b[0m \u001b[43m            \u001b[49m\u001b[43merrors\u001b[49m\u001b[38;5;241;43m=\u001b[39;49m\u001b[43merrors\u001b[49m\u001b[43m,\u001b[49m\n\u001b[1;32m    794\u001b[0m \u001b[43m            \u001b[49m\u001b[43mnewline\u001b[49m\u001b[38;5;241;43m=\u001b[39;49m\u001b[38;5;124;43m\"\u001b[39;49m\u001b[38;5;124;43m\"\u001b[39;49m\u001b[43m,\u001b[49m\n\u001b[1;32m    795\u001b[0m \u001b[43m        \u001b[49m\u001b[43m)\u001b[49m\n\u001b[1;32m    796\u001b[0m     \u001b[38;5;28;01melse\u001b[39;00m:\n\u001b[1;32m    797\u001b[0m         \u001b[38;5;66;03m# Binary mode\u001b[39;00m\n\u001b[1;32m    798\u001b[0m         handle \u001b[38;5;241m=\u001b[39m \u001b[38;5;28mopen\u001b[39m(handle, ioargs\u001b[38;5;241m.\u001b[39mmode)\n",
      "\u001b[0;31mFileNotFoundError\u001b[0m: [Errno 2] No such file or directory: 'data.csv'"
     ]
    }
   ],
   "source": [
    "df = pd.read_csv('/home/priyanka/Downloads/priyanka/Linear Regression/data .csv')"
   ]
  },
  {
   "cell_type": "code",
   "execution_count": null,
   "id": "57c3b464",
   "metadata": {
    "execution": {
     "iopub.execute_input": "2021-04-05T13:13:51.227223Z",
     "iopub.status.busy": "2021-04-05T13:13:51.221866Z",
     "iopub.status.idle": "2021-04-05T13:13:51.275880Z",
     "shell.execute_reply": "2021-04-05T13:13:51.276492Z"
    },
    "papermill": {
     "duration": 0.103933,
     "end_time": "2021-04-05T13:13:51.276686",
     "exception": false,
     "start_time": "2021-04-05T13:13:51.172753",
     "status": "completed"
    },
    "tags": []
   },
   "outputs": [],
   "source": [
    "df.head(10)"
   ]
  },
  {
   "cell_type": "markdown",
   "id": "7745c257",
   "metadata": {},
   "source": [
    "## Exploring the dataset"
   ]
  },
  {
   "cell_type": "markdown",
   "id": "fe45e592",
   "metadata": {},
   "source": [
    "### Data type info"
   ]
  },
  {
   "cell_type": "code",
   "execution_count": null,
   "id": "dd54bff2",
   "metadata": {},
   "outputs": [],
   "source": [
    "df.dtypes"
   ]
  },
  {
   "cell_type": "markdown",
   "id": "1cc59433",
   "metadata": {},
   "source": [
    "### Dataset Shape"
   ]
  },
  {
   "cell_type": "code",
   "execution_count": null,
   "id": "f45e7ecf",
   "metadata": {},
   "outputs": [],
   "source": [
    "df.shape"
   ]
  },
  {
   "cell_type": "markdown",
   "id": "b5be6dd9",
   "metadata": {},
   "source": [
    "### Dataset Columns"
   ]
  },
  {
   "cell_type": "code",
   "execution_count": null,
   "id": "a5b667c4",
   "metadata": {
    "execution": {
     "iopub.execute_input": "2021-04-05T13:13:51.417702Z",
     "iopub.status.busy": "2021-04-05T13:13:51.416730Z",
     "iopub.status.idle": "2021-04-05T13:13:51.423448Z",
     "shell.execute_reply": "2021-04-05T13:13:51.422623Z"
    },
    "papermill": {
     "duration": 0.035622,
     "end_time": "2021-04-05T13:13:51.423597",
     "exception": false,
     "start_time": "2021-04-05T13:13:51.387975",
     "status": "completed"
    },
    "tags": []
   },
   "outputs": [],
   "source": [
    "df.columns"
   ]
  },
  {
   "cell_type": "markdown",
   "id": "10e43656",
   "metadata": {},
   "source": [
    "### Checking missing values"
   ]
  },
  {
   "cell_type": "code",
   "execution_count": null,
   "id": "c0e1e569",
   "metadata": {
    "execution": {
     "iopub.execute_input": "2021-04-05T13:13:51.480321Z",
     "iopub.status.busy": "2021-04-05T13:13:51.479297Z",
     "iopub.status.idle": "2021-04-05T13:13:51.490666Z",
     "shell.execute_reply": "2021-04-05T13:13:51.489945Z"
    },
    "papermill": {
     "duration": 0.041932,
     "end_time": "2021-04-05T13:13:51.490843",
     "exception": false,
     "start_time": "2021-04-05T13:13:51.448911",
     "status": "completed"
    },
    "tags": []
   },
   "outputs": [],
   "source": [
    "df.isnull().sum()"
   ]
  },
  {
   "cell_type": "markdown",
   "id": "38b20400",
   "metadata": {},
   "source": [
    "### Statistical Description of dataset"
   ]
  },
  {
   "cell_type": "code",
   "execution_count": null,
   "id": "7b1a2ffb",
   "metadata": {
    "execution": {
     "iopub.execute_input": "2021-04-05T13:13:51.579705Z",
     "iopub.status.busy": "2021-04-05T13:13:51.575101Z",
     "iopub.status.idle": "2021-04-05T13:13:51.663312Z",
     "shell.execute_reply": "2021-04-05T13:13:51.662613Z"
    },
    "papermill": {
     "duration": 0.133883,
     "end_time": "2021-04-05T13:13:51.663456",
     "exception": false,
     "start_time": "2021-04-05T13:13:51.529573",
     "status": "completed"
    },
    "tags": []
   },
   "outputs": [],
   "source": [
    "df.describe()"
   ]
  },
  {
   "cell_type": "markdown",
   "id": "44419949",
   "metadata": {},
   "source": [
    "### Dependent Feature"
   ]
  },
  {
   "cell_type": "code",
   "execution_count": null,
   "id": "90a56898",
   "metadata": {
    "execution": {
     "iopub.execute_input": "2021-04-05T13:13:51.726042Z",
     "iopub.status.busy": "2021-04-05T13:13:51.725131Z",
     "iopub.status.idle": "2021-04-05T13:13:51.731874Z",
     "shell.execute_reply": "2021-04-05T13:13:51.732411Z"
    },
    "papermill": {
     "duration": 0.042293,
     "end_time": "2021-04-05T13:13:51.732606",
     "exception": false,
     "start_time": "2021-04-05T13:13:51.690313",
     "status": "completed"
    },
    "tags": []
   },
   "outputs": [],
   "source": [
    "df['price']"
   ]
  },
  {
   "cell_type": "markdown",
   "id": "912f4908",
   "metadata": {},
   "source": [
    "### Importing Visualization library"
   ]
  },
  {
   "cell_type": "code",
   "execution_count": null,
   "id": "8e6c42b2",
   "metadata": {},
   "outputs": [],
   "source": [
    "import matplotlib.pyplot as plt\n",
    "import seaborn as sns\n",
    "%matplotlib inline"
   ]
  },
  {
   "cell_type": "markdown",
   "id": "82254363",
   "metadata": {},
   "source": [
    "### Distplot"
   ]
  },
  {
   "cell_type": "code",
   "execution_count": null,
   "id": "cd812a93",
   "metadata": {
    "execution": {
     "iopub.execute_input": "2021-04-05T13:13:54.143658Z",
     "iopub.status.busy": "2021-04-05T13:13:54.142775Z",
     "iopub.status.idle": "2021-04-05T13:13:54.836954Z",
     "shell.execute_reply": "2021-04-05T13:13:54.836264Z"
    },
    "papermill": {
     "duration": 0.733103,
     "end_time": "2021-04-05T13:13:54.837097",
     "exception": false,
     "start_time": "2021-04-05T13:13:54.103994",
     "status": "completed"
    },
    "tags": []
   },
   "outputs": [],
   "source": [
    "sns.distplot(df['price'])"
   ]
  },
  {
   "cell_type": "markdown",
   "id": "a46d1d3a",
   "metadata": {},
   "source": [
    "## Bivariate Analysis"
   ]
  },
  {
   "cell_type": "markdown",
   "id": "ce867da1",
   "metadata": {},
   "source": [
    "### Correlation"
   ]
  },
  {
   "cell_type": "code",
   "execution_count": null,
   "id": "2f8776b4",
   "metadata": {
    "execution": {
     "iopub.execute_input": "2021-04-05T13:13:51.900994Z",
     "iopub.status.busy": "2021-04-05T13:13:51.900231Z",
     "iopub.status.idle": "2021-04-05T13:13:51.924792Z",
     "shell.execute_reply": "2021-04-05T13:13:51.924187Z"
    },
    "papermill": {
     "duration": 0.056147,
     "end_time": "2021-04-05T13:13:51.924952",
     "exception": false,
     "start_time": "2021-04-05T13:13:51.868805",
     "status": "completed"
    },
    "tags": []
   },
   "outputs": [],
   "source": [
    "df.corrwith(df['price']).sort_values(ascending = False)"
   ]
  },
  {
   "cell_type": "markdown",
   "id": "7d221a7e",
   "metadata": {},
   "source": [
    "### Heatmap Correlation"
   ]
  },
  {
   "cell_type": "code",
   "execution_count": null,
   "id": "93d296d3",
   "metadata": {
    "execution": {
     "iopub.execute_input": "2021-04-05T13:13:52.057349Z",
     "iopub.status.busy": "2021-04-05T13:13:52.056714Z",
     "iopub.status.idle": "2021-04-05T13:13:54.003068Z",
     "shell.execute_reply": "2021-04-05T13:13:54.002413Z"
    },
    "papermill": {
     "duration": 1.995895,
     "end_time": "2021-04-05T13:13:54.003226",
     "exception": false,
     "start_time": "2021-04-05T13:13:52.007331",
     "status": "completed"
    },
    "tags": []
   },
   "outputs": [],
   "source": [
    "fig, ax = plt.subplots(figsize=(20, 20))\n",
    "sns.heatmap(df.corr(),annot = True, cmap='RdYlGn')"
   ]
  },
  {
   "cell_type": "markdown",
   "id": "0ff24133",
   "metadata": {},
   "source": [
    "### Visualizing using Scatter plots"
   ]
  },
  {
   "cell_type": "markdown",
   "id": "12d4327c",
   "metadata": {
    "execution": {
     "iopub.execute_input": "2021-04-05T13:13:54.956469Z",
     "iopub.status.busy": "2021-04-05T13:13:54.918125Z",
     "iopub.status.idle": "2021-04-05T13:14:05.421443Z",
     "shell.execute_reply": "2021-04-05T13:14:05.421978Z"
    },
    "papermill": {
     "duration": 10.549094,
     "end_time": "2021-04-05T13:14:05.422161",
     "exception": false,
     "start_time": "2021-04-05T13:13:54.873067",
     "status": "completed"
    },
    "tags": []
   },
   "source": [
    "### fig, ax= plt.subplots(figsize=(27,30), ncols=3, nrows=7)\n",
    "sns.scatterplot(x=\"bedrooms\", y=\"price\",data=df, ax=ax[0][0])\n",
    "sns.scatterplot(x=\"bathrooms\", y=\"price\",data=df, ax=ax[0][1])\n",
    "sns.scatterplot(x=\"sqft_living\", y=\"price\",data=df, ax=ax[0][2])\n",
    "sns.scatterplot(x=\"sqft_lot\", y=\"price\",data=df, ax=ax[1][0])\n",
    "sns.scatterplot(x=\"floors\", y=\"price\",data=df, ax=ax[1][1])\n",
    "sns.scatterplot(x=\"waterfront\", y=\"price\",data=df, ax=ax[1][2])\n",
    "sns.scatterplot(x=\"view\", y=\"price\",data=df, ax=ax[2][0])\n",
    "sns.scatterplot(x=\"condition\", y=\"price\",data=df, ax=ax[2][1])\n",
    "sns.scatterplot(x=\"grade\", y=\"price\",data=df, ax=ax[2][2])\n",
    "sns.scatterplot(x=\"sqft_above\", y=\"price\",data=df, ax=ax[3][0])\n",
    "sns.scatterplot(x=\"sqft_basement\", y=\"price\",data=df, ax=ax[3][1])\n",
    "sns.scatterplot(x=\"yr_built\", y=\"price\",data=df, ax=ax[3][2])\n",
    "sns.scatterplot(x=\"yr_renovated\", y=\"price\",data=df, ax=ax[4][0])\n",
    "sns.scatterplot(x=\"zipcode\", y=\"price\",data=df, ax=ax[4][1])\n",
    "sns.scatterplot(x=\"lat\", y=\"price\",data=df, ax=ax[4][2])\n",
    "sns.scatterplot(x=\"long\", y=\"price\",data=df, ax=ax[5][0])\n",
    "sns.scatterplot(x=\"sqft_living15\", y=\"price\",data=df, ax=ax[5][1])\n",
    "sns.scatterplot(x=\"sqft_lot15\", y=\"price\",data=df, ax=ax[5][2])\n",
    "sns.scatterplot(x=\"id\", y=\"price\",data=df, ax=ax[6][0])\n",
    "\n",
    "plt.show()\n"
   ]
  },
  {
   "cell_type": "markdown",
   "id": "c7a0652f",
   "metadata": {},
   "source": [
    "### Removing irrelevant features"
   ]
  },
  {
   "cell_type": "code",
   "execution_count": null,
   "id": "4ec9872b",
   "metadata": {
    "execution": {
     "iopub.execute_input": "2021-04-05T13:14:05.732996Z",
     "iopub.status.busy": "2021-04-05T13:14:05.732263Z",
     "iopub.status.idle": "2021-04-05T13:14:05.737537Z",
     "shell.execute_reply": "2021-04-05T13:14:05.738080Z"
    },
    "papermill": {
     "duration": 0.058409,
     "end_time": "2021-04-05T13:14:05.738273",
     "exception": false,
     "start_time": "2021-04-05T13:14:05.679864",
     "status": "completed"
    },
    "tags": []
   },
   "outputs": [],
   "source": [
    "df.drop(['id','date','zipcode','condition','long','sqft_lot15','yr_built','sqft_lot','view','yr_renovated'],axis=1,inplace=True)"
   ]
  },
  {
   "cell_type": "code",
   "execution_count": null,
   "id": "3edee22c",
   "metadata": {
    "execution": {
     "iopub.execute_input": "2021-04-05T13:14:05.851086Z",
     "iopub.status.busy": "2021-04-05T13:14:05.843709Z",
     "iopub.status.idle": "2021-04-05T13:14:05.864091Z",
     "shell.execute_reply": "2021-04-05T13:14:05.864617Z"
    },
    "papermill": {
     "duration": 0.074454,
     "end_time": "2021-04-05T13:14:05.864821",
     "exception": false,
     "start_time": "2021-04-05T13:14:05.790367",
     "status": "completed"
    },
    "tags": []
   },
   "outputs": [],
   "source": [
    "df.head()"
   ]
  },
  {
   "cell_type": "code",
   "execution_count": null,
   "id": "0f60cf59",
   "metadata": {
    "execution": {
     "iopub.execute_input": "2021-04-05T13:14:05.972960Z",
     "iopub.status.busy": "2021-04-05T13:14:05.972259Z",
     "iopub.status.idle": "2021-04-05T13:14:05.978837Z",
     "shell.execute_reply": "2021-04-05T13:14:05.978231Z"
    },
    "papermill": {
     "duration": 0.062581,
     "end_time": "2021-04-05T13:14:05.978979",
     "exception": false,
     "start_time": "2021-04-05T13:14:05.916398",
     "status": "completed"
    },
    "tags": []
   },
   "outputs": [],
   "source": [
    "df.columns"
   ]
  },
  {
   "cell_type": "markdown",
   "id": "951edcbe",
   "metadata": {},
   "source": [
    "## Splitting the dataset"
   ]
  },
  {
   "cell_type": "code",
   "execution_count": null,
   "id": "483eaf1c",
   "metadata": {
    "execution": {
     "iopub.execute_input": "2021-04-05T13:14:06.381378Z",
     "iopub.status.busy": "2021-04-05T13:14:06.380206Z",
     "iopub.status.idle": "2021-04-05T13:14:06.388000Z",
     "shell.execute_reply": "2021-04-05T13:14:06.388732Z"
    },
    "papermill": {
     "duration": 0.06329,
     "end_time": "2021-04-05T13:14:06.388945",
     "exception": false,
     "start_time": "2021-04-05T13:14:06.325655",
     "status": "completed"
    },
    "tags": []
   },
   "outputs": [],
   "source": [
    "x = df [['bedrooms', 'bathrooms', 'sqft_living', 'floors', 'waterfront', 'grade','sqft_above', 'sqft_basement', 'lat', 'sqft_living15']]\n",
    "y = df[['price']]"
   ]
  },
  {
   "cell_type": "code",
   "execution_count": null,
   "id": "c9fec99e",
   "metadata": {
    "scrolled": true
   },
   "outputs": [],
   "source": [
    "df.head()"
   ]
  },
  {
   "cell_type": "code",
   "execution_count": null,
   "id": "69847cf2",
   "metadata": {},
   "outputs": [],
   "source": [
    "df.shape"
   ]
  },
  {
   "cell_type": "code",
   "execution_count": null,
   "id": "c74c040c",
   "metadata": {},
   "outputs": [],
   "source": [
    "df ----> df(train), df(test)"
   ]
  },
  {
   "cell_type": "code",
   "execution_count": null,
   "id": "62e668b1",
   "metadata": {},
   "outputs": [],
   "source": [
    "df(train)----> X_train, y_train"
   ]
  },
  {
   "cell_type": "code",
   "execution_count": null,
   "id": "34183c34",
   "metadata": {},
   "outputs": [],
   "source": [
    "df(test)----> X_test, y_test"
   ]
  },
  {
   "cell_type": "code",
   "execution_count": null,
   "id": "8fa878cd",
   "metadata": {},
   "outputs": [],
   "source": []
  },
  {
   "cell_type": "code",
   "execution_count": null,
   "id": "197e8693",
   "metadata": {
    "execution": {
     "iopub.execute_input": "2021-04-05T13:14:06.671273Z",
     "iopub.status.busy": "2021-04-05T13:14:06.670604Z",
     "iopub.status.idle": "2021-04-05T13:14:07.025363Z",
     "shell.execute_reply": "2021-04-05T13:14:07.024705Z"
    },
    "papermill": {
     "duration": 0.431749,
     "end_time": "2021-04-05T13:14:07.025502",
     "exception": false,
     "start_time": "2021-04-05T13:14:06.593753",
     "status": "completed"
    },
    "tags": []
   },
   "outputs": [],
   "source": [
    "from sklearn.model_selection import train_test_split \n",
    "\n",
    "X_train, x_test, Y_train, y_test = train_test_split(x, y, test_size=0.4)"
   ]
  },
  {
   "cell_type": "code",
   "execution_count": null,
   "id": "6675bff8",
   "metadata": {},
   "outputs": [],
   "source": [
    "df.shape"
   ]
  },
  {
   "cell_type": "code",
   "execution_count": null,
   "id": "9141c31e",
   "metadata": {},
   "outputs": [],
   "source": [
    "X_train.shape"
   ]
  },
  {
   "cell_type": "code",
   "execution_count": null,
   "id": "fc466ce3",
   "metadata": {},
   "outputs": [],
   "source": [
    "Y_train.shape"
   ]
  },
  {
   "cell_type": "code",
   "execution_count": null,
   "id": "bfa76bb6",
   "metadata": {},
   "outputs": [],
   "source": [
    "x_test.shape"
   ]
  },
  {
   "cell_type": "code",
   "execution_count": null,
   "id": "b0f884f1",
   "metadata": {},
   "outputs": [],
   "source": [
    "y_test.shape"
   ]
  },
  {
   "cell_type": "code",
   "execution_count": null,
   "id": "e5f3b2d1",
   "metadata": {},
   "outputs": [],
   "source": [
    "df"
   ]
  },
  {
   "cell_type": "code",
   "execution_count": null,
   "id": "958374f1",
   "metadata": {},
   "outputs": [],
   "source": []
  },
  {
   "cell_type": "code",
   "execution_count": null,
   "id": "d4c80c2e",
   "metadata": {},
   "outputs": [],
   "source": []
  },
  {
   "cell_type": "code",
   "execution_count": null,
   "id": "daa42541",
   "metadata": {},
   "outputs": [],
   "source": []
  },
  {
   "cell_type": "code",
   "execution_count": null,
   "id": "945ed2e1",
   "metadata": {},
   "outputs": [],
   "source": []
  },
  {
   "cell_type": "code",
   "execution_count": null,
   "id": "27f5f558",
   "metadata": {},
   "outputs": [],
   "source": []
  },
  {
   "cell_type": "markdown",
   "id": "02141283",
   "metadata": {},
   "source": [
    "## Feature Scaling"
   ]
  },
  {
   "cell_type": "code",
   "execution_count": null,
   "id": "6d333da6",
   "metadata": {},
   "outputs": [],
   "source": [
    "from sklearn.preprocessing import StandardScaler\n",
    "\n",
    "sc = StandardScaler()\n",
    "X_train = sc.fit_transform(X_train)\n",
    "x_test = sc.transform(x_test)"
   ]
  },
  {
   "cell_type": "markdown",
   "id": "fd98fbf1",
   "metadata": {},
   "source": [
    "## Training & Testing the model"
   ]
  },
  {
   "cell_type": "markdown",
   "id": "b50b4cfe",
   "metadata": {},
   "source": [
    "### Linear Regression"
   ]
  },
  {
   "cell_type": "code",
   "execution_count": null,
   "id": "7a0f36da",
   "metadata": {
    "execution": {
     "iopub.execute_input": "2021-04-05T13:14:07.235103Z",
     "iopub.status.busy": "2021-04-05T13:14:07.234383Z",
     "iopub.status.idle": "2021-04-05T13:14:07.418741Z",
     "shell.execute_reply": "2021-04-05T13:14:07.419452Z"
    },
    "papermill": {
     "duration": 0.241716,
     "end_time": "2021-04-05T13:14:07.419693",
     "exception": false,
     "start_time": "2021-04-05T13:14:07.177977",
     "status": "completed"
    },
    "tags": []
   },
   "outputs": [],
   "source": [
    "from sklearn.linear_model import LinearRegression\n",
    "lm = LinearRegression()\n",
    "lm.fit(X_train, Y_train)"
   ]
  },
  {
   "cell_type": "code",
   "execution_count": null,
   "id": "ed476d2d",
   "metadata": {
    "execution": {
     "iopub.execute_input": "2021-04-05T13:14:07.635516Z",
     "iopub.status.busy": "2021-04-05T13:14:07.634609Z",
     "iopub.status.idle": "2021-04-05T13:14:07.642922Z",
     "shell.execute_reply": "2021-04-05T13:14:07.642190Z"
    },
    "papermill": {
     "duration": 0.063795,
     "end_time": "2021-04-05T13:14:07.643083",
     "exception": false,
     "start_time": "2021-04-05T13:14:07.579288",
     "status": "completed"
    },
    "tags": []
   },
   "outputs": [],
   "source": [
    "print(lm.intercept_)"
   ]
  },
  {
   "cell_type": "code",
   "execution_count": null,
   "id": "a8d52cba",
   "metadata": {},
   "outputs": [],
   "source": [
    "predictions = lm.predict(x_test)"
   ]
  },
  {
   "cell_type": "code",
   "execution_count": null,
   "id": "dc2f5912",
   "metadata": {},
   "outputs": [],
   "source": [
    "from sklearn.metrics import r2_score\n",
    "from sklearn.metrics import mean_squared_error\n",
    "from sklearn.metrics import mean_absolute_error"
   ]
  },
  {
   "cell_type": "code",
   "execution_count": null,
   "id": "d31d2315",
   "metadata": {},
   "outputs": [],
   "source": [
    "import numpy as np\n",
    "print('R-square score:',r2_score(y_test, predictions))\n",
    "print('Root Mean squared error:', np.sqrt(mean_squared_error(y_test, predictions)))\n",
    "print('Mean Absolute error:',mean_absolute_error(y_test, predictions))"
   ]
  },
  {
   "cell_type": "markdown",
   "id": "da556878",
   "metadata": {},
   "source": [
    "## Cross validation"
   ]
  },
  {
   "cell_type": "code",
   "execution_count": null,
   "id": "53dc1265",
   "metadata": {},
   "outputs": [],
   "source": [
    "from sklearn.model_selection import  cross_val_score, cross_val_predict"
   ]
  },
  {
   "cell_type": "code",
   "execution_count": null,
   "id": "b5c54e7b",
   "metadata": {},
   "outputs": [],
   "source": [
    "cv_LinReg=cross_val_score(lm,X_train,Y_train,cv=10, scoring='r2')\n",
    "print(cv_LinReg)\n",
    "cv_pred=cross_val_predict(lm,X_train,Y_train,cv=10)"
   ]
  },
  {
   "cell_type": "code",
   "execution_count": null,
   "id": "5360a003",
   "metadata": {
    "scrolled": true
   },
   "outputs": [],
   "source": [
    "print('R-square score:', r2_score(Y_train,cv_pred))\n",
    "print('Mean squared error:', np.sqrt(mean_squared_error(Y_train, cv_pred)))\n",
    "print('Mean Absolute error:',mean_absolute_error(Y_train, cv_pred))"
   ]
  },
  {
   "cell_type": "markdown",
   "id": "217b2388",
   "metadata": {},
   "source": [
    "## Visualizing w.r.t to training set"
   ]
  },
  {
   "cell_type": "code",
   "execution_count": null,
   "id": "e758c3e1",
   "metadata": {
    "execution": {
     "iopub.execute_input": "2021-04-05T13:14:07.758990Z",
     "iopub.status.busy": "2021-04-05T13:14:07.757991Z",
     "iopub.status.idle": "2021-04-05T13:14:08.556475Z",
     "shell.execute_reply": "2021-04-05T13:14:08.557011Z"
    },
    "papermill": {
     "duration": 0.861915,
     "end_time": "2021-04-05T13:14:08.557203",
     "exception": false,
     "start_time": "2021-04-05T13:14:07.695288",
     "status": "completed"
    },
    "tags": []
   },
   "outputs": [],
   "source": [
    "fig,ax=plt.subplots(figsize=(10, 5))\n",
    "plt.rc('font')   \n",
    "sns.distplot(Y_train, hist=False, label='Y-Train', color='r')\n",
    "sns.distplot(cv_pred, hist=False, label='Pred-CV-Value', color='black')\n",
    "plt.title(\"CV-prediction with LinearRegression\")"
   ]
  },
  {
   "cell_type": "code",
   "execution_count": null,
   "id": "b06e1e7f",
   "metadata": {},
   "outputs": [],
   "source": []
  }
 ],
 "metadata": {
  "kernelspec": {
   "display_name": "Python 3 (ipykernel)",
   "language": "python",
   "name": "python3"
  },
  "language_info": {
   "codemirror_mode": {
    "name": "ipython",
    "version": 3
   },
   "file_extension": ".py",
   "mimetype": "text/x-python",
   "name": "python",
   "nbconvert_exporter": "python",
   "pygments_lexer": "ipython3",
   "version": "3.8.13"
  },
  "papermill": {
   "default_parameters": {},
   "duration": 28.090915,
   "end_time": "2021-04-05T13:14:09.533197",
   "environment_variables": {},
   "exception": null,
   "input_path": "__notebook__.ipynb",
   "output_path": "__notebook__.ipynb",
   "parameters": {},
   "start_time": "2021-04-05T13:13:41.442282",
   "version": "2.3.2"
  }
 },
 "nbformat": 4,
 "nbformat_minor": 5
}
